{
 "cells": [
  {
   "cell_type": "markdown",
   "id": "c95f7f17",
   "metadata": {},
   "source": [
    "# Receiver Simulations\n",
    "\n",
    "Simulating backscatter retrievals up to cloud boundaries. The simulations will include signals for high- and low-gain channels. The flux will follow the theory from 'photon_budget_calculation.ipynb'. \n",
    "\n",
    "This version differs from \"meas_sim_v1.ipynb\" in that it is now trying to incorporate temporal variability for the cloud base"
   ]
  },
  {
   "cell_type": "code",
   "execution_count": 1,
   "id": "7085be63",
   "metadata": {},
   "outputs": [],
   "source": [
    "import numpy as np\n",
    "import matplotlib.pyplot as plt\n",
    "import os, sys\n",
    "import time\n",
    "import xarray as xr\n",
    "import pickle\n",
    "from pathlib import Path\n",
    "\n",
    "# import library for simulating Poisson point processes\n",
    "cwd = os.getcwd()\n",
    "dirLib = cwd + r'/library'\n",
    "if dirLib not in sys.path:\n",
    "    sys.path.append(dirLib)\n",
    "\n",
    "import sim_deadtime_utils as sim\n",
    "from load_ARSENL_data import set_binwidth\n",
    "\n",
    "eps = sys.float_info.epsilon"
   ]
  },
  {
   "cell_type": "code",
   "execution_count": 2,
   "id": "d5abc98b",
   "metadata": {},
   "outputs": [],
   "source": [
    "# Constants\n",
    "\n",
    "c = 299792458  # [m/s] speed of light\n",
    "k_B = 1.380649e-23  # [m^2 kg s-2 K-1]\n",
    "g_0 = 9.81  # [m s-2] Gravity\n",
    "M_air = 28.97  # [g/mol] Molar mass of air\n",
    "R_0 = 8.314459  # [J/mol/K] Universal gas constant\n",
    "N_A = 6.022e23  # [atoms / mol] Avogadro's number\n",
    "h = 6.626e-34  # [J s] Planck's constant\n",
    "\n",
    "L = 9e-3  # [K/km] Temperature lapse rate for Denver\n",
    "P_0 = 840  # [mbar] Typical absolute pressure for Denver\n",
    "T_0 = 294.3  # [K] Typical 70 F temperature for Denver\n",
    "lamb = 532.18e-9  # [m] laser wavelength\n",
    "\n",
    "D = 8  # [in] outer diameter of telescope\n",
    "d = 1.8  # [in] inner diameter of telescope\n",
    "\n",
    "dt_TCSPC = 25e-12  # [s] native resolution of TCSPC\n",
    "\n",
    "# Laser specs\n",
    "P_L = 35e-3  # [W] average laser power\n",
    "dt_L = 700e-12  # [s] laser pulse FWHM\n",
    "f_L = 14.7e3  # [Hz] rep rate\n",
    "\n",
    "# Receiver specs (at 532 nm)\n",
    "R_tele = 0.95  # Telescope reflectance\n",
    "R_M = 0.99  # Folding mirror reflectance\n",
    "T_L = 0.9  # Standard lens transmittance\n",
    "mu_F = 0.994  # [m-1] Fiber transmission coefficient\n",
    "L_F = 2  # [m] Fiber length\n",
    "T_F = mu_F * L_F  # Fiber transmittance\n",
    "T_FC = T_L  # Fiber coupler transmittance\n",
    "T_BS_LG = 0.05  # Beam-splitter low-gain transmittance\n",
    "T_BS_HG = 0.95  # Beam-splitter high-gain transmittance\n",
    "T_SBF = 0.9  # Solar background filter transmittance\n",
    "eta_QE = 0.5  # Detector quantum efficiency\n",
    "\n",
    "dalt = c * dt_TCSPC / 2  # [m]\n",
    "alt = np.arange(eps, 2e3, dalt)  # [m] target range"
   ]
  },
  {
   "cell_type": "markdown",
   "id": "68fb0274",
   "metadata": {},
   "source": [
    "### Molecular Signal\n",
    "\n",
    "The molecular signal will serve as the background Rayleigh scattering. The aerosol signal (clouds) will follow."
   ]
  },
  {
   "cell_type": "code",
   "execution_count": 3,
   "id": "a64b6860",
   "metadata": {},
   "outputs": [
    {
     "name": "stdout",
     "output_type": "stream",
     "text": [
      "Total low gain photons: 7.26E-01\n",
      "Total high gain photons: 1.38E+01\n"
     ]
    }
   ],
   "source": [
    "# Calculate Temperature and Pressure\n",
    "T = T_0 - L/1000*alt  # [K]\n",
    "\n",
    "C_g = g_0*M_air/R_0/L\n",
    "P = P_0 * (T/T_0)**C_g  # [mbar]\n",
    "\n",
    "# Scattering coefficients\n",
    "beta_mol = 2.938e-32 * P/T * lamb**(-4.0117)  # [m-1 sr-1]\n",
    "alpha_mol = 8*np.pi/3 * beta_mol  # [m-1]\n",
    "\n",
    "# Telescope parameters\n",
    "A = np.pi/4*(D**2-d**2)  # [in^2]\n",
    "A *= (0.0254**2)  # [m^2] Area\n",
    "\n",
    "# Geometric overlap\n",
    "# G = 1  # assumed one at furthest range\n",
    "# Choose reasonable inverted exponential for asymptotic rise to 1 at some altitude\n",
    "G_alt = np.arange(min(alt)-500, round(max(alt)-500), dalt)\n",
    "alpha = 0.05  # Time constant for exponential\n",
    "G = (1 / (1+np.exp(-alpha*G_alt)))\n",
    "\n",
    "# Range resolution\n",
    "dR = c * dt_TCSPC / 2  # [m]\n",
    "\n",
    "# Number of transmitted photons per shot\n",
    "N_L = P_L/f_L/h/c*lamb\n",
    "# N_L = 1.5e-6/h/c*lamb\n",
    "\n",
    "# Receiver efficiency\n",
    "eta = R_tele * R_M * T_L**4 * T_F * T_FC**2 * T_SBF * eta_QE\n",
    "\n",
    "# Background signal\n",
    "N_B = 0  # number of background photons\n",
    "\n",
    "# Generate photon-count expectation function\n",
    "\n",
    "# Lidar equation for molecular backscatter\n",
    "R = alt  # [m] assume transmitter and receiver are at the surface\n",
    "\n",
    "trans = np.exp(-np.cumsum(alpha_mol*dR))\n",
    "\n",
    "N_mol_LG = N_L*beta_mol*dR*A/R**2*trans**2*eta*T_BS_LG*G + N_B\n",
    "N_mol_HG = N_L*beta_mol*dR*A/R**2*trans**2*eta*T_BS_HG*G + N_B\n",
    "\n",
    "# Account for unexpected missed photons (e.g., poor alignment)\n",
    "N_mol_LG /= 10\n",
    "N_mol_HG /= 10\n",
    "\n",
    "# Remove first term (unreal, 0 km alt)\n",
    "N_mol_LG[0] = 0\n",
    "N_mol_HG[0] = 0\n",
    "\n",
    "N_mol_LG_tot = np.sum(N_mol_LG)\n",
    "N_mol_HG_tot = np.sum(N_mol_HG)\n",
    "\n",
    "print('Total low gain photons: {:.2E}'.format(N_mol_LG_tot))\n",
    "print('Total high gain photons: {:.2E}'.format(N_mol_HG_tot))"
   ]
  },
  {
   "cell_type": "code",
   "execution_count": 4,
   "id": "76253ed3",
   "metadata": {},
   "outputs": [
    {
     "data": {
      "image/png": "[encoded data removed]",
      "text/plain": [
       "<Figure size 432x288 with 1 Axes>"
      ]
     },
     "metadata": {
      "needs_background": "light"
     },
     "output_type": "display_data"
    }
   ],
   "source": [
    "# Molecular (Rayleigh) signal\n",
    "# Checking how the overlap function looks...\n",
    "\n",
    "fig = plt.figure()\n",
    "ax = fig.add_subplot(111)\n",
    "ax.semilogy(alt, N_mol_HG/dt_TCSPC)\n",
    "# ax.set_ylim([1, 10000])\n",
    "ax.set_xlabel('Altitude [m]')\n",
    "ax.set_ylabel('Flux [Hz]')\n",
    "ax.set_title('Molecular Signal')\n",
    "plt.show()"
   ]
  },
  {
   "cell_type": "markdown",
   "id": "20d0ff29",
   "metadata": {},
   "source": [
    "# Cloud Signal"
   ]
  },
  {
   "cell_type": "code",
   "execution_count": 5,
   "id": "172f6fb4",
   "metadata": {},
   "outputs": [
    {
     "name": "stderr",
     "output_type": "stream",
     "text": [
      "C:\\Users\\Grant\\AppData\\Local\\Temp\\ipykernel_19592\\1379047958.py:7: RuntimeWarning: overflow encountered in exp\n",
      "  cloud_sig = (1 / (1+np.exp(-cloud_alpha*(alt-cloud_bot)))) - (1 / (1+np.exp(-cloud_alpha*(alt-cloud_top))))\n"
     ]
    },
    {
     "data": {
      "image/png": "[encoded data removed]",
      "text/plain": [
       "<Figure size 432x288 with 1 Axes>"
      ]
     },
     "metadata": {
      "needs_background": "light"
     },
     "output_type": "display_data"
    }
   ],
   "source": [
    "# Add cloud to signal\n",
    "\n",
    "cloud_bot = 1.0e3  # [m] cloud base\n",
    "cloud_top = 1.5e3  # [m] cloud top\n",
    "cloud_alpha = 0.5  # sharp transition\n",
    "# cloud_alpha = 0.035 # smooth transition\n",
    "cloud_sig = (1 / (1+np.exp(-cloud_alpha*(alt-cloud_bot)))) - (1 / (1+np.exp(-cloud_alpha*(alt-cloud_top))))\n",
    "\n",
    "S = 20  # [sr] lidar ratio\n",
    "# S = 40  # [sr] try this for rapid extinction\n",
    "beta_aer = 1e-3  # [m-1 sr-1] singular value for aerosol backscatter\n",
    "\n",
    "# # Boxcar-function cloud\n",
    "# cloud = np.zeros(len(alt))\n",
    "# cloud_idx = np.where((alt>=cloud_bot) & (alt<=cloud_top))[0]\n",
    "# cloud[cloud_idx] = np.ones(len(cloud_idx))\n",
    "\n",
    "# Double-sigmoid cloud\n",
    "cloud = np.ones(len(alt))\n",
    "cloud *= cloud_sig\n",
    "\n",
    "beta_aer = beta_aer * cloud  # [m-1 sr-1]\n",
    "alpha_aer = S * beta_aer  # [m-1]\n",
    "\n",
    "fig = plt.figure()\n",
    "ax = fig.add_subplot(111)\n",
    "ax.plot(alt, cloud)\n",
    "ax.set_xlabel('Altitude [m]')\n",
    "ax.set_title('Cloud')\n",
    "plt.show()"
   ]
  },
  {
   "cell_type": "code",
   "execution_count": 41,
   "id": "9a08f7a0",
   "metadata": {},
   "outputs": [
    {
     "name": "stdout",
     "output_type": "stream",
     "text": [
      "Total low gain photons: 1.08E+01\n",
      "Total high gain photons: 2.05E+02\n"
     ]
    }
   ],
   "source": [
    "# Lidar equation for combined molecular and aerosol backscatter\n",
    "plat_height = 0  # [m] Assume transmitter and receiver are at the surface\n",
    "R = alt - plat_height  # [m]\n",
    "\n",
    "trans = np.exp(-np.cumsum((alpha_mol+alpha_aer)*dR))\n",
    "\n",
    "N_com_LG = N_L*(beta_mol+beta_aer)*dR*A/R**2*trans**2*eta*T_BS_LG*G + N_B\n",
    "N_com_HG = N_L*(beta_mol+beta_aer)*dR*A/R**2*trans**2*eta*T_BS_HG*G + N_B\n",
    "\n",
    "# Remove first term (unreal, 0 km alt)\n",
    "N_com_LG[0] = 0\n",
    "N_com_HG[0] = 0\n",
    "\n",
    "# Unaccounted missed photons\n",
    "N_com_LG /= 10\n",
    "N_com_HG /= 10\n",
    "\n",
    "N_com_LG_tot = np.sum(N_com_LG)\n",
    "N_com_HG_tot = np.sum(N_com_HG)\n",
    "\n",
    "print('Total low gain photons: {:.2E}'.format(N_com_LG_tot))\n",
    "print('Total high gain photons: {:.2E}'.format(N_com_HG_tot))"
   ]
  },
  {
   "cell_type": "code",
   "execution_count": 7,
   "id": "98a42a7c",
   "metadata": {},
   "outputs": [
    {
     "data": {
      "image/png": "[encoded data removed]",
      "text/plain": [
       "<Figure size 1600x1800 with 1 Axes>"
      ]
     },
     "metadata": {
      "needs_background": "light"
     },
     "output_type": "display_data"
    }
   ],
   "source": [
    "# Check cloud + mol signal\n",
    "\n",
    "fig = plt.figure(figsize=(4, 4.5), dpi=400)\n",
    "ax = fig.add_subplot(111)\n",
    "ax.plot(N_com_HG/dt_TCSPC/1e6, R/1e3, '-', linewidth=8)\n",
    "ax.set_ylabel('Altitude [km]')\n",
    "ax.set_xlabel('Flux [MHz]')\n",
    "ax.set_title('Cloud Edge Backscatter')\n",
    "ax.set_xlim([4e-1, 3e3])\n",
    "ax.set_ylim([0.94, 1.05])\n",
    "ax.fill_between([4e-1, 3e3], 0.9875, 1.00, alpha=0.5)\n",
    "ax.set_xscale('log')\n",
    "plt.tight_layout()\n",
    "plt.show()"
   ]
  },
  {
   "cell_type": "markdown",
   "id": "1d58dc02",
   "metadata": {},
   "source": [
    "### Generate simulated returns\n",
    "\n",
    "Using Matt's code (same one I used for my deadtime experiments), generate simulated measurements using the arrival-rate function generated."
   ]
  },
  {
   "cell_type": "code",
   "execution_count": 48,
   "id": "2ecf10b3",
   "metadata": {},
   "outputs": [
    {
     "ename": "ValueError",
     "evalue": "x and y must have same first dimension, but have shapes (106741,) and (533703,)",
     "output_type": "error",
     "traceback": [
      "\u001b[1;31m---------------------------------------------------------------------------\u001b[0m",
      "\u001b[1;31mValueError\u001b[0m                                Traceback (most recent call last)",
      "Input \u001b[1;32mIn [48]\u001b[0m, in \u001b[0;36m<cell line: 80>\u001b[1;34m()\u001b[0m\n\u001b[0;32m     78\u001b[0m fig \u001b[38;5;241m=\u001b[39m plt\u001b[38;5;241m.\u001b[39mfigure()\n\u001b[0;32m     79\u001b[0m ax \u001b[38;5;241m=\u001b[39m fig\u001b[38;5;241m.\u001b[39madd_subplot(\u001b[38;5;241m111\u001b[39m)\n\u001b[1;32m---> 80\u001b[0m \u001b[43max\u001b[49m\u001b[38;5;241;43m.\u001b[39;49m\u001b[43mplot\u001b[49m\u001b[43m(\u001b[49m\u001b[43mt_sim_bins\u001b[49m\u001b[43m[\u001b[49m\u001b[43m:\u001b[49m\u001b[38;5;241;43m-\u001b[39;49m\u001b[38;5;241;43m1\u001b[39;49m\u001b[43m]\u001b[49m\u001b[38;5;241;43m*\u001b[39;49m\u001b[43mc\u001b[49m\u001b[38;5;241;43m/\u001b[39;49m\u001b[38;5;241;43m2\u001b[39;49m\u001b[43m,\u001b[49m\u001b[43m \u001b[49m\u001b[43mphoton_rate_arr\u001b[49m\u001b[43m)\u001b[49m\n\u001b[0;32m     81\u001b[0m ax\u001b[38;5;241m.\u001b[39mset_xlabel(\u001b[38;5;124m'\u001b[39m\u001b[38;5;124mRange [m]\u001b[39m\u001b[38;5;124m'\u001b[39m)\n\u001b[0;32m     82\u001b[0m ax\u001b[38;5;241m.\u001b[39mset_ylabel(\u001b[38;5;124m'\u001b[39m\u001b[38;5;124mFlux [Hz]\u001b[39m\u001b[38;5;124m'\u001b[39m)\n",
      "File \u001b[1;32m~\\anaconda3\\envs\\arsenl-conda\\lib\\site-packages\\matplotlib\\axes\\_axes.py:1632\u001b[0m, in \u001b[0;36mAxes.plot\u001b[1;34m(self, scalex, scaley, data, *args, **kwargs)\u001b[0m\n\u001b[0;32m   1390\u001b[0m \u001b[38;5;124;03m\"\"\"\u001b[39;00m\n\u001b[0;32m   1391\u001b[0m \u001b[38;5;124;03mPlot y versus x as lines and/or markers.\u001b[39;00m\n\u001b[0;32m   1392\u001b[0m \n\u001b[1;32m   (...)\u001b[0m\n\u001b[0;32m   1629\u001b[0m \u001b[38;5;124;03m(``'green'``) or hex strings (``'#008000'``).\u001b[39;00m\n\u001b[0;32m   1630\u001b[0m \u001b[38;5;124;03m\"\"\"\u001b[39;00m\n\u001b[0;32m   1631\u001b[0m kwargs \u001b[38;5;241m=\u001b[39m cbook\u001b[38;5;241m.\u001b[39mnormalize_kwargs(kwargs, mlines\u001b[38;5;241m.\u001b[39mLine2D)\n\u001b[1;32m-> 1632\u001b[0m lines \u001b[38;5;241m=\u001b[39m [\u001b[38;5;241m*\u001b[39m\u001b[38;5;28mself\u001b[39m\u001b[38;5;241m.\u001b[39m_get_lines(\u001b[38;5;241m*\u001b[39margs, data\u001b[38;5;241m=\u001b[39mdata, \u001b[38;5;241m*\u001b[39m\u001b[38;5;241m*\u001b[39mkwargs)]\n\u001b[0;32m   1633\u001b[0m \u001b[38;5;28;01mfor\u001b[39;00m line \u001b[38;5;129;01min\u001b[39;00m lines:\n\u001b[0;32m   1634\u001b[0m     \u001b[38;5;28mself\u001b[39m\u001b[38;5;241m.\u001b[39madd_line(line)\n",
      "File \u001b[1;32m~\\anaconda3\\envs\\arsenl-conda\\lib\\site-packages\\matplotlib\\axes\\_base.py:312\u001b[0m, in \u001b[0;36m_process_plot_var_args.__call__\u001b[1;34m(self, data, *args, **kwargs)\u001b[0m\n\u001b[0;32m    310\u001b[0m     this \u001b[38;5;241m+\u001b[39m\u001b[38;5;241m=\u001b[39m args[\u001b[38;5;241m0\u001b[39m],\n\u001b[0;32m    311\u001b[0m     args \u001b[38;5;241m=\u001b[39m args[\u001b[38;5;241m1\u001b[39m:]\n\u001b[1;32m--> 312\u001b[0m \u001b[38;5;28;01myield from\u001b[39;00m \u001b[38;5;28;43mself\u001b[39;49m\u001b[38;5;241;43m.\u001b[39;49m\u001b[43m_plot_args\u001b[49m\u001b[43m(\u001b[49m\u001b[43mthis\u001b[49m\u001b[43m,\u001b[49m\u001b[43m \u001b[49m\u001b[43mkwargs\u001b[49m\u001b[43m)\u001b[49m\n",
      "File \u001b[1;32m~\\anaconda3\\envs\\arsenl-conda\\lib\\site-packages\\matplotlib\\axes\\_base.py:498\u001b[0m, in \u001b[0;36m_process_plot_var_args._plot_args\u001b[1;34m(self, tup, kwargs, return_kwargs)\u001b[0m\n\u001b[0;32m    495\u001b[0m     \u001b[38;5;28mself\u001b[39m\u001b[38;5;241m.\u001b[39maxes\u001b[38;5;241m.\u001b[39myaxis\u001b[38;5;241m.\u001b[39mupdate_units(y)\n\u001b[0;32m    497\u001b[0m \u001b[38;5;28;01mif\u001b[39;00m x\u001b[38;5;241m.\u001b[39mshape[\u001b[38;5;241m0\u001b[39m] \u001b[38;5;241m!=\u001b[39m y\u001b[38;5;241m.\u001b[39mshape[\u001b[38;5;241m0\u001b[39m]:\n\u001b[1;32m--> 498\u001b[0m     \u001b[38;5;28;01mraise\u001b[39;00m \u001b[38;5;167;01mValueError\u001b[39;00m(\u001b[38;5;124mf\u001b[39m\u001b[38;5;124m\"\u001b[39m\u001b[38;5;124mx and y must have same first dimension, but \u001b[39m\u001b[38;5;124m\"\u001b[39m\n\u001b[0;32m    499\u001b[0m                      \u001b[38;5;124mf\u001b[39m\u001b[38;5;124m\"\u001b[39m\u001b[38;5;124mhave shapes \u001b[39m\u001b[38;5;132;01m{\u001b[39;00mx\u001b[38;5;241m.\u001b[39mshape\u001b[38;5;132;01m}\u001b[39;00m\u001b[38;5;124m and \u001b[39m\u001b[38;5;132;01m{\u001b[39;00my\u001b[38;5;241m.\u001b[39mshape\u001b[38;5;132;01m}\u001b[39;00m\u001b[38;5;124m\"\u001b[39m)\n\u001b[0;32m    500\u001b[0m \u001b[38;5;28;01mif\u001b[39;00m x\u001b[38;5;241m.\u001b[39mndim \u001b[38;5;241m>\u001b[39m \u001b[38;5;241m2\u001b[39m \u001b[38;5;129;01mor\u001b[39;00m y\u001b[38;5;241m.\u001b[39mndim \u001b[38;5;241m>\u001b[39m \u001b[38;5;241m2\u001b[39m:\n\u001b[0;32m    501\u001b[0m     \u001b[38;5;28;01mraise\u001b[39;00m \u001b[38;5;167;01mValueError\u001b[39;00m(\u001b[38;5;124mf\u001b[39m\u001b[38;5;124m\"\u001b[39m\u001b[38;5;124mx and y can be no greater than 2D, but have \u001b[39m\u001b[38;5;124m\"\u001b[39m\n\u001b[0;32m    502\u001b[0m                      \u001b[38;5;124mf\u001b[39m\u001b[38;5;124m\"\u001b[39m\u001b[38;5;124mshapes \u001b[39m\u001b[38;5;132;01m{\u001b[39;00mx\u001b[38;5;241m.\u001b[39mshape\u001b[38;5;132;01m}\u001b[39;00m\u001b[38;5;124m and \u001b[39m\u001b[38;5;132;01m{\u001b[39;00my\u001b[38;5;241m.\u001b[39mshape\u001b[38;5;132;01m}\u001b[39;00m\u001b[38;5;124m\"\u001b[39m)\n",
      "\u001b[1;31mValueError\u001b[0m: x and y must have same first dimension, but have shapes (106741,) and (533703,)"
     ]
    },
    {
     "data": {
      "image/png": "[encoded data removed]",
      "text/plain": [
       "<Figure size 432x288 with 1 Axes>"
      ]
     },
     "metadata": {
      "needs_background": "light"
     },
     "output_type": "display_data"
    }
   ],
   "source": [
    "# Parameters for simulation. !!!Make sure to change simulation number for corresponding image!!!\n",
    "\n",
    "sim_num = 7\n",
    "\n",
    "use_com = True\n",
    "# time_vary = False\n",
    "use_hg = False\n",
    "use_window = True\n",
    "\n",
    "home = str(Path.home())\n",
    "save_dir = home + r'\\OneDrive - UCB-O365\\ARSENL\\Experiments\\Cloud Measurements\\Sims\\saved_sims'\n",
    "\n",
    "\"\"\"\n",
    "Using Matthew Hayman's 'photon_count_generator' method in 'sim_deadtime_utils', generate simulated data with\n",
    "and without deadtime effects.\n",
    ":param t_sim_max: (float) maximum time for each laser shot [s]\n",
    ":param dt_sim: (float) resolution settings [s]\n",
    ":param tD: (float) deadtime [s]\n",
    ":param Nshot: (int) number of laser shots\n",
    ":param wrap_deadtime: (bool) set TRUE to wrap deadtime into next shot if detection is close to 't_sim_max'\n",
    ":param window_bnd: (1x2 float list) time bounds on simulation [s]\n",
    ":param rho_func: (1xlen(t_sim)) arrival-rate function [Hz]\n",
    ":return: flight_time, true_flight_time, n_shots, t_det_lst, t_phot_lst\n",
    "\"\"\"\n",
    "\n",
    "if use_hg:\n",
    "    N_com = N_com_HG\n",
    "else:\n",
    "    N_com = N_com_LG\n",
    "\n",
    "dt_sim = dt_TCSPC  # [s]\n",
    "if use_com:\n",
    "    rho_func = N_com / dt_sim  # [Hz] arrival-rate function (flux)\n",
    "else:\n",
    "    rho_func = N_mol / dt_sim  # [Hz] arrival-rate function (flux)\n",
    "    \n",
    "tD = 29.1e-9  # [s] Deadtime interval\n",
    "wrap_deadtime = False\n",
    "window_bnd = [800, 1200]\n",
    "\n",
    "idx_low = np.argmin(np.abs(alt - window_bnd[0]))\n",
    "idx_high = np.argmin(np.abs(alt - window_bnd[1]))\n",
    "alt_window = alt[idx_low:idx_high]  # [m] \n",
    "   \n",
    "Nshot = 2  # Number of laser shots\n",
    "amp = 5  # [m] sinusoid amplitude\n",
    "T_laser = 1 / f_L  # [s] laser period\n",
    "T_cloud_period = 5  # [s] period for sinusoidal varying cloud base\n",
    "cloud_sig_agg = np.zeros((len(alt_window), Nshot))\n",
    "cloud = np.ones(len(alt_window))\n",
    "\n",
    "# Precompute cloud base location per shot\n",
    "n = np.arange(0, Nshot)\n",
    "t_step = n * T_laser  # [s]\n",
    "loc = amp * np.sin(2*np.pi*t_step/T_cloud_period)  # [m] various places in cloud base\n",
    "cloud_bot = 1000 + loc  # [m] cloud base\n",
    "\n",
    "# generate the photon arrival rate of the profile\n",
    "photon_rate_arr = rho_func  # [Hz]\n",
    "\n",
    "# generate the simulated scene time axis\n",
    "R = alt_window - plat_height  # [m] range from system\n",
    "# R = alt\n",
    "t_sim = R / c * 2  # [s] simulation time\n",
    "t_sim_bins = np.concatenate((t_sim, t_sim[-1:]+dt_sim))  # simulation time histogram bins\n",
    "# t_sim_bins[0] = 0\n",
    "\n",
    "# if use_window:\n",
    "#     idx_min = np.argmin(np.abs(t_sim_bins*c/2 - window_bnd[0]))\n",
    "#     idx_max = np.argmin(np.abs(t_sim_bins*c/2 - window_bnd[1]))\n",
    "#     t_sim_bins = t_sim_bins[idx_min:idx_max+1]\n",
    "#     photon_rate_arr = photon_rate_arr[idx_min:idx_max]\n",
    "\n",
    "min_t = min(t_sim_bins)  # [s]\n",
    "t_sim_bins_zeroed = t_sim_bins - min_t  # [s] need to shift time axis to start at zero for simulator\n",
    "\n",
    "        \n",
    "fig = plt.figure()\n",
    "ax = fig.add_subplot(111)\n",
    "ax.plot(t_sim_bins[:-1]*c/2, photon_rate_arr)\n",
    "ax.set_xlabel('Range [m]')\n",
    "ax.set_ylabel('Flux [Hz]')\n",
    "ax.semilogy()\n",
    "plt.show()"
   ]
  },
  {
   "cell_type": "code",
   "execution_count": 23,
   "id": "19bec25e",
   "metadata": {},
   "outputs": [],
   "source": [
    "# start = time.time()\n",
    "\n",
    "# # alt_tile = np.tile(alt_window, (Nshot, 1)).T  # [m] preparing altitude vector for each profile\n",
    "# # cloud_sig_agg = (1 / (1+np.exp(-cloud_alpha*(alt_tile-cloud_bot)))) - (1 / (1+np.exp(-cloud_alpha*(alt_tile-cloud_top))))\n",
    "\n",
    "# for i in range(len(loc)):\n",
    "#     # Change cloud base location\n",
    "#     cloud_bot_step = cloud_bot[i]  # [m] cloud base\n",
    "#     cloud_sig = (1 / (1+np.exp(-cloud_alpha*(alt_window-cloud_bot_step)))) - (1 / (1+np.exp(-cloud_alpha*(alt_window-cloud_top))))\n",
    "#     cloud_sig_agg[:, i] = cloud * cloud_sig\n",
    "# print('Time elapsed: {:.2f} s'.format(time.time()-start))"
   ]
  },
  {
   "cell_type": "code",
   "execution_count": 24,
   "id": "00fe9230",
   "metadata": {},
   "outputs": [],
   "source": [
    "# num = 20\n",
    "# t_part = n[::int(len(cloud_sig_agg[0, :])/num)] * T_laser\n",
    "# cloud_sig_agg_part = cloud_sig_agg[:, ::int(len(cloud_sig_agg[0, :])/num)][::-1]\n",
    "# fig = plt.figure(dpi=400, figsize=(1, 4))\n",
    "# ax = fig.add_subplot(111)\n",
    "# im = ax.imshow(cloud_sig_agg_part, aspect='auto', extent=[np.min(t_part)*1e3, np.max(t_part)*1e3, np.min(alt_window), np.max(alt_window)])\n",
    "# ax.set_ylim([990, 1010])\n",
    "# ax.set_xlabel('Time [ms]')\n",
    "# ax.set_ylabel('Altitude [m]')\n",
    "# plt.colorbar(im)\n",
    "# plt.show()"
   ]
  },
  {
   "cell_type": "code",
   "execution_count": 39,
   "id": "8187337b",
   "metadata": {},
   "outputs": [
    {
     "data": {
      "text/plain": [
       "(533703,)"
      ]
     },
     "execution_count": 39,
     "metadata": {},
     "output_type": "execute_result"
    }
   ],
   "source": [
    "R.shape"
   ]
  },
  {
   "cell_type": "code",
   "execution_count": null,
   "id": "ca63d8f3",
   "metadata": {},
   "outputs": [],
   "source": [
    "##### GENERATE SIMULATED DATA #####\n",
    "\n",
    "# simulation resolution settings\n",
    "if type(Nshot) != int:\n",
    "    Nshot = int(Nshot)  # number of laser shots\n",
    "\n",
    "# generate photon counts\n",
    "\n",
    "# lists of photon arrivals per laser shot\n",
    "start = time.time()\n",
    "t_det_lst = []  # detected photons (includes deadtime)\n",
    "t_phot_lst = []  # actual photons (no dead time)\n",
    "sync_idx = np.arange(Nshot)  # sync value\n",
    "det_sync_idx = []\n",
    "phot_sync_idx = []\n",
    "det_events = []\n",
    "phot_events = []\n",
    "\n",
    "t_det_last = -100.0  # last photon detection event\n",
    "# if time_vary:\n",
    "#     N_com_agg = np.zeros((len(N_com), Nshot))\n",
    "#     cloud_sig_agg = np.zeros((len(N_com), Nshot))\n",
    "for n in range(Nshot):\n",
    "    if time_vary:\n",
    "        cloud_bot_step = cloud_bot[n]  # [m] cloud base\n",
    "        cloud_sig = (1/(1 + np.exp(-cloud_alpha*(alt_window - cloud_bot_step)))) - (1/(1 + np.exp(-cloud_alpha*(alt_window - cloud_top))))\n",
    "        cloud_out = cloud * cloud_sig\n",
    "        cloud_sig_agg[:, n] = cloud_out\n",
    "        \n",
    "        beta_aer = beta_aer * cloud_out  # [m-1 sr-1]\n",
    "        alpha_aer = S * beta_aer  # [m-1]\n",
    "        \n",
    "        trans = np.exp(-np.cumsum((alpha_mol+alpha_aer) * dR))\n",
    "        N_com = N_L*(beta_mol + beta_aer)*dR*A/R**2*trans**2*eta*G + N_B\n",
    "        N_com[0] = 0\n",
    "        N_com_agg[:, n] = N_com\n",
    "        \n",
    "        rho_func = N_com / dt_TCSPC  # [Hz]\n",
    "        photon_rate_arr = rho_func  # [Hz]\n",
    "#     if time_vary:\n",
    "#         # Change cloud base location\n",
    "#         loc = 20 * np.sin(2*np.pi*n/Nshot)  # [m] vary cloud base sinusoidally\n",
    "#         cloud_bot = 1.00e3 + loc  # [m] cloud base\n",
    "#         cloud_top = 1.50e3 + loc  # [m] cloud top\n",
    "#         cloud_sig = (1 / (1+np.exp(-cloud_alpha*(alt-cloud_bot)))) - (1 / (1+np.exp(-cloud_alpha*(alt-cloud_top))))\n",
    "#         cloud = np.ones(len(alt))\n",
    "#         cloud *= cloud_sig\n",
    "#         cloud_sig_agg[:, n] = cloud_sig\n",
    "\n",
    "#         beta_aer = beta_aer * cloud  # [m-1 sr-1]\n",
    "#         alpha_aer = S * beta_aer  # [m-1]\n",
    "\n",
    "#         trans = np.exp(-np.cumsum((alpha_mol+alpha_aer)*dR))\n",
    "#         N_com = N_L*(beta_mol+beta_aer)*dR*A/R**2*trans**2*eta*G + N_B\n",
    "#         N_com[0] = 0\n",
    "#         N_com_agg[:, n] = N_com\n",
    "        \n",
    "#         rho_func = N_com / dt_TCSPC  # [Hz]\n",
    "        \n",
    "#         photon_rate_arr = rho_func  # [Hz]\n",
    "    \n",
    "    # simulate a laser shot\n",
    "    ptime, ctime = sim.photon_count_generator(t_sim_bins_zeroed, photon_rate_arr, tau_d_flt=tD, last_photon_flt=t_det_last)\n",
    "    if wrap_deadtime:\n",
    "        if len(ctime) > 0:\n",
    "            t_det_last = ctime[-1]\n",
    "        t_det_last -= t_sim_bins[-1]\n",
    "\n",
    "    ctime /= dt_sim  # convert from s to clock counts since sync event\n",
    "    ptime /= dt_sim  # convert from s to clock counts since sync event\n",
    "\n",
    "    for i in range(len(ctime)):\n",
    "        det_events.append(ctime[i])  # detection time tags\n",
    "        det_sync_idx.append(n)\n",
    "    for i in range(len(ptime)):\n",
    "        phot_events.append(ptime[i])  # photon time tags\n",
    "        phot_sync_idx.append(n)\n",
    "\n",
    "print('Time elapsed: {} s'.format(time.time()-start))"
   ]
  },
  {
   "cell_type": "code",
   "execution_count": null,
   "id": "174baa9d",
   "metadata": {},
   "outputs": [],
   "source": [
    "# Save data out\n",
    "det_idx = np.arange(len(det_events))\n",
    "phot_idx = np.arange(len(phot_events))\n",
    "\n",
    "time_tag_index = det_idx\n",
    "true_time_tag_index = phot_idx\n",
    "sync_index = sync_idx\n",
    "time_tag = det_events + min_t/dt_sim\n",
    "true_time_tag = phot_events + min_t/dt_sim\n",
    "time_tag_sync_index = det_sync_idx\n",
    "true_time_tag_sync_index = phot_sync_idx\n",
    "\n",
    "if use_hg:\n",
    "    T_BS = T_BS_HG\n",
    "else:\n",
    "    T_BS = T_BS_LG\n",
    "\n",
    "# Save simulated data to netCDF\n",
    "sim_data = xr.Dataset(\n",
    "    data_vars=dict(\n",
    "        time_tag=(['time_tag_index'], time_tag),\n",
    "        time_tag_sync_index=(['time_tag_index'], time_tag_sync_index),\n",
    "        true_time_tag=(['true_time_tag_index'], true_time_tag),\n",
    "        true_time_tag_sync_index=(['true_time_tag_index'], true_time_tag_sync_index),\n",
    "        photon_rate_arr=photon_rate_arr,\n",
    "        dt_sim=dt_sim,\n",
    "        dtime=tD,\n",
    "        t_sim_bins=t_sim_bins,\n",
    "        T_BS=T_BS\n",
    "    ),\n",
    "    coords=dict(\n",
    "        sync_index=(['sync_index'], sync_index)\n",
    "    )\n",
    ")\n",
    "\n",
    "fname = r'\\simnum_{}_nshot{:.2E}_useHG{}_T{}.nc'.format(sim_num, Nshot, use_hg, T_BS)\n",
    "sim_data.to_netcdf(save_dir+fname)"
   ]
  },
  {
   "cell_type": "code",
   "execution_count": null,
   "id": "c3e531d4",
   "metadata": {},
   "outputs": [],
   "source": []
  },
  {
   "cell_type": "code",
   "execution_count": null,
   "id": "2ff41c7c",
   "metadata": {},
   "outputs": [],
   "source": []
  },
  {
   "cell_type": "code",
   "execution_count": null,
   "id": "bd8a8452",
   "metadata": {},
   "outputs": [],
   "source": []
  },
  {
   "cell_type": "code",
   "execution_count": null,
   "id": "328c6a12",
   "metadata": {},
   "outputs": [],
   "source": []
  },
  {
   "cell_type": "code",
   "execution_count": null,
   "id": "6efab39b",
   "metadata": {},
   "outputs": [],
   "source": []
  },
  {
   "cell_type": "code",
   "execution_count": null,
   "id": "14c9fdf1",
   "metadata": {},
   "outputs": [],
   "source": []
  },
  {
   "cell_type": "code",
   "execution_count": null,
   "id": "f879d3b6",
   "metadata": {},
   "outputs": [],
   "source": []
  },
  {
   "cell_type": "code",
   "execution_count": null,
   "id": "eaab518f",
   "metadata": {},
   "outputs": [],
   "source": []
  },
  {
   "cell_type": "code",
   "execution_count": null,
   "id": "84e4b5c2",
   "metadata": {},
   "outputs": [],
   "source": []
  },
  {
   "cell_type": "code",
   "execution_count": null,
   "id": "92d36b68",
   "metadata": {},
   "outputs": [],
   "source": []
  },
  {
   "cell_type": "code",
   "execution_count": null,
   "id": "17575c5b",
   "metadata": {},
   "outputs": [],
   "source": []
  },
  {
   "cell_type": "code",
   "execution_count": null,
   "id": "720eab1c",
   "metadata": {},
   "outputs": [],
   "source": []
  },
  {
   "cell_type": "code",
   "execution_count": null,
   "id": "3f675a54",
   "metadata": {},
   "outputs": [],
   "source": []
  },
  {
   "cell_type": "code",
   "execution_count": null,
   "id": "648734a3",
   "metadata": {
    "scrolled": true
   },
   "outputs": [],
   "source": [
    "bin_avg = 1000  # integration factor (increase bin sizes)\n",
    "\n",
    "fig = plt.figure(dpi=400)\n",
    "ax = fig.add_subplot(111)\n",
    "n, bins = np.histogram((np.array(phot_events)*dt_sim + min_t), bins=t_sim_bins[::bin_avg])\n",
    "binwidth = np.diff(bins)[0]\n",
    "N = n / binwidth / Nshot  # [Hz]\n",
    "center = 0.5 * (bins[:-1] + bins[1:])\n",
    "ax.bar(center*c/2, N, align='center', width=binwidth*c/2, color='r', alpha=0.75, label='Actual')\n",
    "\n",
    "tof = (np.array(det_events)*dt_sim  + min_t)\n",
    "n, bins = np.histogram(tof, bins=t_sim_bins[::bin_avg])\n",
    "N = n / binwidth / Nshot  # [Hz] Scaling counts to arrival rate\n",
    "ax.bar(center*c/2, N, align='center', width=binwidth*c/2, color='b', alpha=0.75, label='Measured')\n",
    "if use_window:\n",
    "    t_sim_plot = t_sim[idx_min:idx_max]\n",
    "    if use_com:\n",
    "        N_com_plot = N_com[idx_min:idx_max]\n",
    "    else:\n",
    "        N_mol_plot = N_mol[idx_min:idx_max]\n",
    "if use_com:\n",
    "#     if time_vary:\n",
    "#         ax.plot(t_sim*c/2, np.mean(N_com_agg, axis=1)/dt_TCSPC, 'r--', alpha=0.35, label='Truth (mean)')\n",
    "#         ax.plot(t_sim*c/2, N_com_agg[:, ::100]/dt_TCSPC)\n",
    "#     else:\n",
    "#         ax.plot(t_sim*c/2, N_com/dt_TCSPC, 'k--', alpha=0.6, label='Truth')\n",
    "\n",
    "    if use_hg:\n",
    "        ax.plot(t_sim_plot*c/2, N_com_plot/dt_TCSPC, 'k--', alpha=0.6, label='Truth (high gain T={})'.format(T_BS_HG))\n",
    "        ax.plot(t_sim_plot*c/2, N_com_plot/dt_TCSPC/T_BS_HG, 'm--', alpha=0.6, label='Truth')\n",
    "    else:\n",
    "        ax.plot(t_sim_plot*c/2, N_com_plot/dt_TCSPC, 'k--', alpha=0.6, label='Truth (low gain T={})'.format(T_BS_LG))\n",
    "        ax.plot(t_sim_plot*c/2, N_com_plot/dt_TCSPC/T_BS_LG, 'm--', alpha=0.6, label='Truth')\n",
    "else:\n",
    "    ax.plot(t_sim_plot*c/2, N_mol_plot/dt_TCSPC, 'r--', alpha=0.5, label='Truth')\n",
    "ax.set_ylabel('Flux [Hz]')\n",
    "ax.set_xlabel('Altitude [m]')\n",
    "ax.set_title('Simulated Measurements of Cloud Edge')\n",
    "ax.set_yscale('log')\n",
    "# ax.set_xlim([250, 1400])\n",
    "# ax.set_ylim([1e4, 1e9])\n",
    "plt.tight_layout()\n",
    "plt.legend()\n",
    "plt.show()\n"
   ]
  },
  {
   "cell_type": "code",
   "execution_count": null,
   "id": "2c40dc60",
   "metadata": {},
   "outputs": [],
   "source": []
  },
  {
   "cell_type": "code",
   "execution_count": null,
   "id": "f4ffd052",
   "metadata": {},
   "outputs": [],
   "source": []
  },
  {
   "cell_type": "code",
   "execution_count": null,
   "id": "da9f527e",
   "metadata": {},
   "outputs": [],
   "source": []
  },
  {
   "cell_type": "code",
   "execution_count": null,
   "id": "6abcac91",
   "metadata": {},
   "outputs": [],
   "source": []
  },
  {
   "cell_type": "code",
   "execution_count": null,
   "id": "446f7c42",
   "metadata": {},
   "outputs": [],
   "source": []
  }
 ],
 "metadata": {
  "kernelspec": {
   "display_name": "Python [conda env:arsenl-conda]",
   "language": "python",
   "name": "conda-env-arsenl-conda-py"
  },
  "language_info": {
   "codemirror_mode": {
    "name": "ipython",
    "version": 3
   },
   "file_extension": ".py",
   "mimetype": "text/x-python",
   "name": "python",
   "nbconvert_exporter": "python",
   "pygments_lexer": "ipython3",
   "version": "3.10.5"
  }
 },
 "nbformat": 4,
 "nbformat_minor": 5
}
