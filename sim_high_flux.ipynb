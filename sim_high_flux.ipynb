{
 "cells": [
  {
   "cell_type": "markdown",
   "id": "aa87de6e",
   "metadata": {},
   "source": [
    "# Simulate High Flux for 'Radiometric_Error_Analysis.ipynb'"
   ]
  },
  {
   "cell_type": "markdown",
   "id": "f23846a0",
   "metadata": {},
   "source": [
    "Simulate the return from a hard target surface (like the ground or cloud)"
   ]
  },
  {
   "cell_type": "code",
   "execution_count": 1,
   "id": "c0ae54eb",
   "metadata": {},
   "outputs": [],
   "source": [
    "import numpy as np\n",
    "import matplotlib.pyplot as plt\n",
    "import os, sys\n",
    "import time\n",
    "import xarray as xr\n",
    "import pickle\n",
    "from pathlib import Path\n",
    "\n",
    "# import library for simulating Poisson point processes\n",
    "cwd = os.getcwd()\n",
    "dirLib = cwd + r'/library'\n",
    "if dirLib not in sys.path:\n",
    "    sys.path.append(dirLib)\n",
    "\n",
    "import sim_deadtime_utils as sim\n",
    "from load_ARSENL_data import set_binwidth\n",
    "\n",
    "eps = sys.float_info.epsilon"
   ]
  },
  {
   "cell_type": "code",
   "execution_count": 32,
   "id": "e9c209d5",
   "metadata": {},
   "outputs": [],
   "source": [
    "# Constants\n",
    "\n",
    "c = 299792458  # [m/s] speed of light\n",
    "k_B = 1.380649e-23  # [m^2 kg s-2 K-1]\n",
    "g_0 = 9.81  # [m s-2] Gravity\n",
    "M_air = 28.97  # [g/mol] Molar mass of air\n",
    "R_0 = 8.314459  # [J/mol/K] Universal gas constant\n",
    "N_A = 6.022e23  # [atoms / mol] Avogadro's number\n",
    "h = 6.626e-34  # [J s] Planck's constant\n",
    "\n",
    "fL = 2e3  # [Hz] laser rep rate for ABLE\n",
    "tD = 20e-9  # [Hz] deadtime"
   ]
  },
  {
   "cell_type": "code",
   "execution_count": 34,
   "id": "a220f123",
   "metadata": {},
   "outputs": [],
   "source": [
    "amp = 3e6  # [Hz] amplitude of step (cloud or surface)\n",
    "mu = 15   # [m] where the surface is\n",
    "r_ABLE_bin = 30  # [m] the extend of the range bin\n",
    "bgd = 0  # [Hz] background\n",
    "t_res = 250e-12  # [s] very fine (almost time tag) resolution\n",
    "\n",
    "num_bins = int(r_ABLE_bin/c*2//t_res)  # number of \"time tage\" bins within major bin\n",
    "\n",
    "r_sim_bins = np.linspace(0, r_ABLE_bin, num_bins)  # [m]\n",
    "t_sim_bins = r_sim_bins/c*2  # [s]\n",
    "loc_center = np.round(mu/r_ABLE_bin * num_bins).astype(int)\n",
    "\n",
    "flux = np.zeros(num_bins)  # [Hz]\n",
    "flux[loc_center:] = 1  # [Hz] generate step function for flux\n",
    "photon_rate_arr = flux * amp # [Hz]"
   ]
  },
  {
   "cell_type": "markdown",
   "id": "1f55e30a",
   "metadata": {},
   "source": [
    "### Simulate retrieval"
   ]
  },
  {
   "cell_type": "code",
   "execution_count": 44,
   "id": "1e88b931",
   "metadata": {},
   "outputs": [
    {
     "name": "stdout",
     "output_type": "stream",
     "text": [
      "2000 shots\n",
      "1.000 sec of simulated data\n"
     ]
    }
   ],
   "source": [
    "Nshot = 2000\n",
    "print('{} shots'.format(Nshot))\n",
    "print('{:.3f} sec of simulated data'.format(Nshot/fL))"
   ]
  },
  {
   "cell_type": "code",
   "execution_count": 51,
   "id": "25db0975",
   "metadata": {},
   "outputs": [
    {
     "name": "stdout",
     "output_type": "stream",
     "text": [
      "Time elapsed: 0.4298102855682373 s\n"
     ]
    }
   ],
   "source": [
    "##### GENERATE SIMULATED DATA #####\n",
    "\n",
    "# simulation resolution settings\n",
    "if type(Nshot) != int:\n",
    "    Nshot = int(Nshot)  # number of laser shots\n",
    "\n",
    "wrap_deadtime = False\n",
    "\n",
    "# generate photon counts\n",
    "\n",
    "# lists of photon arrivals per laser shot\n",
    "start = time.time()\n",
    "t_det_lst = []  # detected photons (includes deadtime)\n",
    "t_phot_lst = []  # actual photons (no dead time)\n",
    "sync_idx = np.arange(Nshot)  # sync value\n",
    "det_sync_idx = []\n",
    "phot_sync_idx = []\n",
    "det_events = []\n",
    "phot_events = []\n",
    "\n",
    "t_det_last = -100.0  # last photon detection event\n",
    "for n in range(Nshot):    \n",
    "    # simulate a laser shot\n",
    "    ptime, ctime = sim.photon_count_generator(np.append(t_sim_bins, t_sim_bins[-1]+t_res), photon_rate_arr, tau_d_flt=tD, last_photon_flt=t_det_last)\n",
    "    if wrap_deadtime:\n",
    "        if len(ctime) > 0:\n",
    "            t_det_last = ctime[-1]\n",
    "        t_det_last -= t_sim_bins[-1]\n",
    "\n",
    "    ctime /= t_res  # convert from s to clock counts since sync event\n",
    "    ptime /= t_res  # convert from s to clock counts since sync event\n",
    "\n",
    "    for i in range(len(ctime)):\n",
    "        det_events.append(ctime[i])  # detection time tags\n",
    "        det_sync_idx.append(n)\n",
    "    for i in range(len(ptime)):\n",
    "        phot_events.append(ptime[i])  # photon time tags\n",
    "        phot_sync_idx.append(n)\n",
    "\n",
    "print('Time elapsed: {} s'.format(time.time()-start))\n",
    "\n",
    "det_events = np.array(det_events)\n",
    "det_sync_idx = np.array(det_sync_idx)\n",
    "phot_events = np.array(phot_events)\n",
    "phot_sync_idx = np.array(phot_sync_idx)"
   ]
  },
  {
   "cell_type": "code",
   "execution_count": 64,
   "id": "07f2001f",
   "metadata": {},
   "outputs": [],
   "source": [
    "# Grant, you need to do np.histogram"
   ]
  },
  {
   "cell_type": "code",
   "execution_count": 63,
   "id": "b20f0b99",
   "metadata": {},
   "outputs": [
    {
     "data": {
      "image/png": "[encoded data removed]",
      "text/plain": [
       "<Figure size 432x288 with 1 Axes>"
      ]
     },
     "metadata": {
      "needs_background": "light"
     },
     "output_type": "display_data"
    }
   ],
   "source": [
    "avg_range = 100\n",
    "plot_bins = t_sim_bins[::avg_range]\n",
    "\n",
    "fig = plt.figure()\n",
    "ax = fig.add_subplot(111)\n",
    "ax.hist(det_events*t_res, bins=plot_bins, orientation='horizontal')\n",
    "plt.show()"
   ]
  },
  {
   "cell_type": "code",
   "execution_count": null,
   "id": "09811441",
   "metadata": {},
   "outputs": [],
   "source": []
  }
 ],
 "metadata": {
  "kernelspec": {
   "display_name": "Python [conda env:arsenl-conda]",
   "language": "python",
   "name": "conda-env-arsenl-conda-py"
  },
  "language_info": {
   "codemirror_mode": {
    "name": "ipython",
    "version": 3
   },
   "file_extension": ".py",
   "mimetype": "text/x-python",
   "name": "python",
   "nbconvert_exporter": "python",
   "pygments_lexer": "ipython3",
   "version": "3.10.5"
  }
 },
 "nbformat": 4,
 "nbformat_minor": 5
}
