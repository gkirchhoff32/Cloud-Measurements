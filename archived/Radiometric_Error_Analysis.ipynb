{
 "cells": [
  {
   "cell_type": "markdown",
   "id": "67b024bf",
   "metadata": {},
   "source": [
    "# Direct Correction for IPDA / DIAL for ABLE"
   ]
  },
  {
   "cell_type": "markdown",
   "id": "f8df6cad",
   "metadata": {},
   "source": [
    "I want to evaluate how much a radiometric flux error translates to an error in a water vapor retrieval for something like IPDA:\n",
    "\n",
    "Number concentration of water vapor (WV) particles $n_{WV}$ is directly related to the optical depth $\\tau$. This comes out of\n",
    "$$n_{WV}=\\frac{1}{2\\Delta\\sigma_{abs}\\Delta R}\\ln\\left(\\frac{P_{OFF}-P_B}{P_{ON}-P_B}\\right)=\\frac{1}{\\Delta\\sigma_{abs}\\Delta R}\\Delta\\tau$$\n",
    "where $\\sigma_{abs}$ is the absorption cross section, $P$ is the optical power, $\\Delta R$ is the range resolution, and $\\tau$ is the optical depth. Note that this expression does ignore other terms in the DIAL equation such as backscatter and extinction. Errors in the flux can be injected via\n",
    "$$\\Delta\\tau=\\frac{1}{2}\\ln\\left(\\frac{P_{OFF}\\pm\\epsilon_{OFF}-P_B}{P_{ON}\\pm\\epsilon_{ON}-P_B}\\right)$$\n",
    "where the $\\epsilon$ terms are the errors associated with the fluxes. For more advanced retrievals that also include terms like temperature (e.g., mixing ratio) that have there own associated error sources, it's important that the accuracy for $\\tau$ is less than 5%. For most DIAL applications, use $\\tau$ values between 1 - 2.\n",
    "I will use fluxes $\\Phi$ instead of powers (since the ratio maintains linearity $P=\\Phi E$, where $E$ is energy per photon). Here, I assume the energy per photon for on and offline to be approximately equivalent... For ABLE, they expect an offline flux $\\Phi_{OFF}=3$ MHz for dark albedo. This means $\\Phi_{ON}=\\frac{3e6}{e^2}=406$ kHZ.\n",
    "\n",
    "Now for DIAL:\n",
    "$$n_{WV}=\\frac{1}{2\\Delta\\sigma_{abs}}\\frac{d}{dR}\\left(\\ln\\left[\\frac{P_{OFF}-P_B}{P_{ON}-P_B}\\right]\\right)=\\frac{1}{\\Delta\\sigma_{abs}}\\frac{d}{dR}\\Delta\\tau$$"
   ]
  },
  {
   "cell_type": "code",
   "execution_count": 1,
   "id": "3bae7c3f",
   "metadata": {},
   "outputs": [
    {
     "name": "stderr",
     "output_type": "stream",
     "text": [
      "C:\\Users\\Grant\\anaconda3\\envs\\arsenl-conda\\lib\\site-packages\\tqdm\\auto.py:21: TqdmWarning: IProgress not found. Please update jupyter and ipywidgets. See https://ipywidgets.readthedocs.io/en/stable/user_install.html\n",
      "  from .autonotebook import tqdm as notebook_tqdm\n"
     ]
    }
   ],
   "source": [
    "import numpy as np\n",
    "import matplotlib.pyplot as plt\n",
    "import os, sys\n",
    "import time\n",
    "import xarray as xr\n",
    "import pickle\n",
    "import torch\n",
    "from pathlib import Path\n",
    "\n",
    "# import library for simulating Poisson point processes\n",
    "cwd = os.getcwd()\n",
    "dirLib = cwd + r'/library'\n",
    "if dirLib not in sys.path:\n",
    "    sys.path.append(dirLib)\n",
    "\n",
    "# import sim_deadtime_utils as sim\n",
    "from load_ARSENL_data import set_binwidth\n",
    "\n",
    "import fit_polynomial_utils_cloud as fit\n",
    "import data_organize as dorg\n",
    "\n",
    "eps = sys.float_info.epsilon"
   ]
  },
  {
   "cell_type": "code",
   "execution_count": 2,
   "id": "179369a5",
   "metadata": {},
   "outputs": [
    {
     "name": "stdout",
     "output_type": "stream",
     "text": [
      "Ideal Optical Depth: 1\n",
      "Offline Flux: 10.000 MHz\n",
      "Online Flux: 1.353 MHz\n"
     ]
    }
   ],
   "source": [
    "tau_aim = 1  # Aiming for optical depth value of 1 \n",
    "phi_off = 10e6  # [Hz] offline flux\n",
    "phi_on = phi_off / np.e**(2*tau_aim)\n",
    "print('Ideal Optical Depth: {}'.format(tau_aim))\n",
    "print('Offline Flux: {:.3f} MHz'.format(phi_off/1e6))\n",
    "print('Online Flux: {:.3f} MHz'.format(phi_on/1e6))"
   ]
  },
  {
   "cell_type": "code",
   "execution_count": 3,
   "id": "b88f2de3",
   "metadata": {},
   "outputs": [
    {
     "name": "stdout",
     "output_type": "stream",
     "text": [
      "Output Optical Depth: 1.025\n",
      "Error: 2.54%\n"
     ]
    }
   ],
   "source": [
    "eps_off = 871625  # [Hz] estimate for offline error in flux\n",
    "eps_on = 45057  # [Hz] assume online is linear due to low flux\n",
    "\n",
    "tau = 1/2*np.log((phi_off + eps_off)/(phi_on + eps_on))\n",
    "\n",
    "print('Output Optical Depth: {:.3f}'.format(tau))\n",
    "print('Error: {:.2f}%'.format(np.abs(tau-tau_aim)/tau_aim*100))"
   ]
  },
  {
   "cell_type": "code",
   "execution_count": null,
   "id": "24a83bcd",
   "metadata": {},
   "outputs": [],
   "source": []
  }
 ],
 "metadata": {
  "kernelspec": {
   "display_name": "Python [conda env:arsenl-conda]",
   "language": "python",
   "name": "conda-env-arsenl-conda-py"
  },
  "language_info": {
   "codemirror_mode": {
    "name": "ipython",
    "version": 3
   },
   "file_extension": ".py",
   "mimetype": "text/x-python",
   "name": "python",
   "nbconvert_exporter": "python",
   "pygments_lexer": "ipython3",
   "version": "3.10.5"
  }
 },
 "nbformat": 4,
 "nbformat_minor": 5
}
