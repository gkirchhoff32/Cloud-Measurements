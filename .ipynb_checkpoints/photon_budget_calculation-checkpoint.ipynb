{
 "cells": [
  {
   "cell_type": "code",
   "execution_count": 1,
   "id": "5612b411",
   "metadata": {},
   "outputs": [],
   "source": [
    "import numpy as np\n",
    "import matplotlib.pyplot as plt"
   ]
  },
  {
   "cell_type": "markdown",
   "id": "33ab8bdd",
   "metadata": {},
   "source": [
    "This will serve as my photon budget calculator as I build up the new receiver for high-resolution retrievals.\n",
    "\n",
    "The elastic lidar equation (for photon number) is as follows:\n",
    "\n",
    "$$N_s = N_L(\\lambda)\\beta(\\lambda, R)\\Delta R\\frac{A}{R^2}\\exp\\left(-2\\int_{0}^{R}\\alpha(\\lambda, R')dR'\\right)\\eta(\\lambda) G(R) + N_B$$\n",
    "\n",
    "For simplicity, the background signal is neglected:\n",
    "\n",
    "$$N_B=0$$ \n",
    "\n",
    "The number of photons emitted per pulse can be calculated by (technically improperly) integrating the average power of the pulse duration (FWHM):\n",
    "\n",
    "$$N_L = \\frac{\\bar{P}\\Delta t}{hc/\\lambda}$$\n",
    "\n",
    "I will also start out by assuming the \"worst case scenario\" range resolution $\\Delta R_{min}$ by using the native acquisition resolution $\\Delta t_{min}$:\n",
    "\n",
    "$$\\Delta R_{min} = c\\Delta t_{min}/2$$\n",
    "\n",
    "The area of the telescope is found using the diameter of the primary mirror $D$ and the occluded diameter of secondary mirror $d$:\n",
    "\n",
    "$$A=\\frac{\\pi}{4}(D^2-d^2)$$\n",
    "\n",
    "At the furthest distance, I will assume the overlap $G$ is unity:\n",
    "\n",
    "$$G(R_{max})=1$$\n",
    "\n",
    "For receiver efficiency $\\eta$, all of the calculations will be done at the laser center wavelength $\\nu_L=532$ nm. Using the preliminary design from Feb. 19, 2024, the receiver efficiency chain is as follows:\n",
    "\n",
    "$$\\eta(\\nu_L)=R_{tele}R_{M}T_{L1}T_{FC1}T_{F}T_{FC2}T_{L2}T_{L3}T_{SBF}R_{BS}T_{L4}\\eta_{QE}=R_{tele}R_MT_L^4T_FT_{FC}^2R_{BS}T_{SBF}\\eta_{QE}$$\n",
    "\n",
    "where $T_{tele}$ is the telescope reflectance, $R_M$ is the folding mirror reflectance, $T_{Lx}$ is each lens transmittance, $T_{FCx}$ is the fiber coupler transmittance, $T_{F}$ is the transmittance of the fiber, $T_{SBF}$ is the filter transmittance, $R_{BS}$ is the reflectance of the 10% channel, and $\\eta_{QE}$ is the quantum efficiency of the detector. $T_{F}$ is found using $T_F=\\mu_F^L$, where $\\mu_F$ is the transmittance coefficient and $L$ is the fiber length. All values are assumed at the frequency $\\nu_L$.\n",
    "\n",
    "Lastly, for backscatter $\\beta$ and extinction $\\alpha$ coefficients, $\\beta=\\beta_{mol}+\\beta_{aer}$ and $\\alpha=\\alpha_{mol}+\\alpha_{aer}$, where $mol$ and $aer$ subscripts represent the molecular and aerosol coefficients. We assume that the only contributing scattering agents are molecules for a worst-case scenario calculation, thus $\\beta_{aer}=\\alpha_{aer}=0$.\n",
    "\n",
    "$$\\beta_{mol}(\\lambda, R)=2.938x10^{-32}\\frac{P(R)\\mathrm{[mbar]}}{T(R)}\\lambda^{-4.0117}\\mathrm{[m^{-1}sr^{-1}]}$$\n",
    "$$\\alpha_{mol}(\\lambda, R)=\\frac{8\\pi\\mathrm{[sr]}}{3}\\beta_{mol}(\\lambda, R)$$\n",
    "\n",
    "where $P$ is the pressure and $T$ is the temperature. To generate the thermodynamic variables $P$ and $T$, I used the following state equations:\n",
    "\n",
    "$$P(z)=P_0\\left(\\frac{T(z)}{T_0}\\right)^{C_g}$$\n",
    "\n",
    "where $T_0$ and $P_0$ is the surface temperature and pressure, and $z$ is the altitude relative to the surface and can be calculated using $z=R+z_L$, where $z_L$ is the altitude of the transmitter relative to the surface. $T(z)$ and $C_g$ can be found using\n",
    "\n",
    "$$C_g=\\frac{g_0M_{air}}{R_0L}$$\n",
    "$$T(z)=T_0-Lz$$\n",
    "\n",
    "where $g_0$ is gravitational acceleration, $M_{air}$ is the molar mass of air $[g/mol]$, $R_0$ is the universal gas constant, and $L$ is the lapse rate, which is 6.5 - 9.0 K/km for Denver typically.\n",
    "\n",
    "Useful references:\n",
    "\n",
    "[1] Fernald - Determination of Aerosol Height... (1972)\n",
    "\n",
    "[2] Hayman - Temperature Error due to... (2019) (unpublished)\n",
    "\n",
    "[3] Chu - ASEN 6365 Lecture notes (2023)\n",
    "\n",
    "[4] Dahlke & Roberts - STAR Lidar Project Summary Report"
   ]
  },
  {
   "cell_type": "code",
   "execution_count": 2,
   "id": "7331251a",
   "metadata": {},
   "outputs": [],
   "source": [
    "# Constants\n",
    "\n",
    "c = 299792458  # [m/s] speed of light\n",
    "k_B = 1.380649e-23  # [m^2 kg s-2 K-1]\n",
    "g_0 = 9.81  # [m s-2] Gravity\n",
    "M_air = 28.97  # [g/mol] Molar mass of air\n",
    "R_0 = 8.314459  # [J/mol/K] Universal gas constant\n",
    "N_A = 6.022e23  # [atoms / mol] Avogadro's number\n",
    "h = 6.626e-34  # [J s] Planck's constant\n",
    "\n",
    "L = 9e-3  # [K/km] Temperature lapse rate for Denver\n",
    "P_0 = 1000  # [mbar] Typical absolute pressure for Denver\n",
    "T_0 = 294.3  # [K] Typical 70 F temperature for Denver\n",
    "lamb = 532.18e-9  # [m] laser wavelength\n",
    "\n",
    "D = 16  # [in] outer diameter of telescope\n",
    "d = 5  # [in] inner diameter of telescope\n",
    "# D = 8  # [in]\n",
    "# d = 1.8  # [in]\n",
    "\n",
    "dt_TCSPC = 25e-12  # [s] native resolution of TCSPC\n",
    "\n",
    "P_L = 35e-3  # [W] average laser power\n",
    "dt_L = 700e-12  # [s] laser pulse FWHM\n",
    "\n",
    "# Receiver specs (at 532 nm)\n",
    "R_tele = 0.95  # Telescope reflectance\n",
    "R_M = 0.99  # Folding mirror reflectance\n",
    "T_L = 0.9  # Standard lens transmittance\n",
    "mu_F = 0.994  # [m-1] Fiber transmission coefficient\n",
    "L_F = 2  # [m] Fiber length\n",
    "T_F = mu_F * L_F  # Fiber transmittance\n",
    "T_FC = T_L  # Fiber coupler transmittance\n",
    "T_BS_LG = 0.01  # Beam-splitter low-gain transmittance\n",
    "T_BS_HG = 0.99  # Beam-splitter high-gain transmittance\n",
    "T_SBF = 0.9  # Solar background filter transmittance\n",
    "eta_QE = 0.5  # Detector quantum efficiency\n",
    "\n",
    "dalt = c * dt_TCSPC / 2  # [m]\n",
    "alt = np.arange(500, 5e3, dalt)  # [m] target range"
   ]
  },
  {
   "cell_type": "code",
   "execution_count": 3,
   "id": "9453c7c6",
   "metadata": {},
   "outputs": [],
   "source": [
    "# Calculate Temperature and Pressure\n",
    "T = T_0 - L/1000*alt  # [K]\n",
    "\n",
    "C_g = g_0*M_air/R_0/L\n",
    "P = P_0 * (T/T_0)**C_g  # [mbar]\n",
    "\n",
    "# Scattering coefficients\n",
    "beta_mol = 2.938e-32 * P/T * lamb**(-4.0117)  # [m-1 sr-1]\n",
    "alpha_mol = 8*np.pi/3 * beta_mol  # [m-1]\n",
    "\n",
    "# Telescope parameters\n",
    "A = np.pi/4*(D**2-d**2)  # [in^2]\n",
    "A *= (0.0254**2)  # [m^2] Area\n",
    "\n",
    "# Geometric overlap\n",
    "G = 1  # assumed one at furthest range\n",
    "\n",
    "# Range resolution\n",
    "dR = c * dt_TCSPC / 2  # [m]\n",
    "\n",
    "# Number of transmitted photons per shot\n",
    "N_L = P_L*dt_L/h/c*lamb\n",
    "\n",
    "# Receiver efficiency\n",
    "eta_LG = R_tele * R_M * T_L**4 * T_F * T_FC**2 * T_BS_LG * T_SBF * eta_QE\n",
    "eta_HG = R_tele * R_M * T_L**4 * T_F * T_FC**2 * T_BS_HG * T_SBF * eta_QE\n",
    "\n",
    "# Background signal\n",
    "N_B = 0  # number of background photons"
   ]
  },
  {
   "cell_type": "code",
   "execution_count": 4,
   "id": "1a4bdb72",
   "metadata": {},
   "outputs": [
    {
     "name": "stdout",
     "output_type": "stream",
     "text": [
      "Total low gain photons: 7.78E-05\n",
      "Total high gain photons: 7.71E-03\n"
     ]
    }
   ],
   "source": [
    "# Lidar equation for molecular backscatter\n",
    "R = alt  # assume transmitter and receiver are at the surface\n",
    "\n",
    "trans = np.exp(-np.cumsum(alpha_mol*dR))\n",
    "\n",
    "N_mol_LG = N_L*beta_mol*dR*A/R**2*trans**2*eta_LG*G + N_B\n",
    "N_mol_HG = N_L*beta_mol*dR*A/R**2*trans**2*eta_HG*G + N_B\n",
    "\n",
    "N_mol_LG_tot = np.sum(N_mol_LG)\n",
    "N_mol_HG_tot = np.sum(N_mol_HG)\n",
    "\n",
    "print('Total low gain photons: {:.2E}'.format(N_mol_LG_tot))\n",
    "print('Total high gain photons: {:.2E}'.format(N_mol_HG_tot))"
   ]
  },
  {
   "cell_type": "code",
   "execution_count": 5,
   "id": "466a34be",
   "metadata": {},
   "outputs": [
    {
     "data": {
      "image/png": "[encoded data removed]",
      "text/plain": [
       "<Figure size 432x288 with 1 Axes>"
      ]
     },
     "metadata": {
      "needs_background": "light"
     },
     "output_type": "display_data"
    }
   ],
   "source": [
    "fig = plt.figure()\n",
    "ax = fig.add_subplot(111)\n",
    "ax.plot(R, N_mol_HG/dt_TCSPC, '-')\n",
    "ax.set_xlabel('Range [m]')\n",
    "ax.set_ylabel('Received flux (high gain) [Hz]')\n",
    "ax.set_title('Photon Budget (molecular)')\n",
    "ax.set_yscale('log')\n",
    "plt.tight_layout()\n",
    "plt.show()"
   ]
  },
  {
   "cell_type": "markdown",
   "id": "4fb1ab50",
   "metadata": {},
   "source": [
    "For aerosols, maybe I need to run Mie code? Looking at some papers (Wagner and Delene, 2022) a LWC backscatter coefficient can be roughly 20 km-1 sr-1. Maybe start there? Model the cloud as a boxcar function to start. To get extinction, use the lidar ratio? Is that a scalar value or differs with range?\n",
    "\n",
    "Now to include the effects of aerosols, the lidar equation is modified:\n",
    "\n",
    "$$N_s = N_L(\\lambda)\\left(\\beta_{mol}(\\lambda, R)+\\beta_{aer}(\\lambda, R)\\right)\\Delta R\\frac{A}{R^2}\\exp\\left(-2\\int_{0}^{R}\\alpha_{mol}(\\lambda, R')dR'\\right)\\exp\\left(-2\\int_{0}^{R}\\alpha_{aer}(\\lambda, R')dR'\\right)\\eta(\\lambda) G(R) + N_B$$\n",
    "\n",
    "We know the relationship between the molecular scattering coefficients as $\\alpha_{mol}(z)/\\beta_{mol}(z)=\\frac{8\\pi}{3} \\mathrm{[sr]}$. The lidar ratio $S$ is defined as the same ratio but for aerosols:\n",
    "\n",
    "$$S(z)=\\alpha_{aer}(z)/\\beta_{aer}(z) \\mathrm{[sr]}$$\n",
    "\n",
    "Although $\\alpha$ and $\\beta$ for aerosols is not constant w.r.t. altitude, it is typically assumed that the ratio is constant. For this study, I will use the lidar ratio $S=20$ sr, however I do not know if this value and the uniformity assumption holds for clouds.\n",
    "\n",
    "For the cloud simulation, I will use a boxcar function for the cloud at realistic cumulus altitudes (1km - 4 km roughly). \n",
    "\n",
    "Typical values for lidar ratios: clouds - 20, aerosols - 30-40\n",
    "Typical values for beta: clouds - 1e-3, aerosols - 1e-5"
   ]
  },
  {
   "cell_type": "code",
   "execution_count": 6,
   "id": "2fd50b85",
   "metadata": {},
   "outputs": [],
   "source": [
    "cloud_bot = 1.0e3  # [m] cloud base\n",
    "cloud_top = 3.0e3  # [m] cloud top\n",
    "\n",
    "S = 20  # [sr] lidar ratio\n",
    "beta_aer = 1e-3  # [m-1 sr-1] singular value for aerosol backscatter\n",
    "\n",
    "cloud = np.zeros(len(alt))\n",
    "cloud_idx = np.where((alt>=cloud_bot) & (alt<=cloud_top))[0]\n",
    "cloud[cloud_idx] = np.ones(len(cloud_idx))\n",
    "\n",
    "beta_aer = beta_aer * cloud  # [m-1 sr-1]\n",
    "alpha_aer = S * beta_aer  # [m-1]"
   ]
  },
  {
   "cell_type": "code",
   "execution_count": 7,
   "id": "c73a9009",
   "metadata": {},
   "outputs": [
    {
     "name": "stdout",
     "output_type": "stream",
     "text": [
      "Total low gain photons: 8.57E-04\n",
      "Total high gain photons: 8.48E-02\n"
     ]
    }
   ],
   "source": [
    "# Lidar equation for combined molecular and aerosol backscatter\n",
    "R = alt  # assume transmitter and receiver are at the surface\n",
    "\n",
    "trans = np.exp(-np.cumsum((alpha_mol+alpha_aer)*dR))\n",
    "\n",
    "N_com_LG = N_L*(beta_mol+beta_aer)*dR*A/R**2*trans**2*eta_LG*G + N_B\n",
    "N_com_HG = N_L*(beta_mol+beta_aer)*dR*A/R**2*trans**2*eta_HG*G + N_B\n",
    "\n",
    "N_com_LG_tot = np.sum(N_com_LG)\n",
    "N_com_HG_tot = np.sum(N_com_HG)\n",
    "\n",
    "print('Total low gain photons: {:.2E}'.format(N_com_LG_tot))\n",
    "print('Total high gain photons: {:.2E}'.format(N_com_HG_tot))"
   ]
  },
  {
   "cell_type": "code",
   "execution_count": 8,
   "id": "4eaa1d10",
   "metadata": {
    "scrolled": true
   },
   "outputs": [
    {
     "data": {
      "image/png": "[encoded data removed]",
      "text/plain": [
       "<Figure size 432x288 with 1 Axes>"
      ]
     },
     "metadata": {
      "needs_background": "light"
     },
     "output_type": "display_data"
    }
   ],
   "source": [
    "fig = plt.figure()\n",
    "ax = fig.add_subplot(111)\n",
    "ax.plot(R, N_com_HG/dt_TCSPC, '-')\n",
    "ax.set_xlabel('Range [m]')\n",
    "ax.set_ylabel('Received flux (high gain) [Hz]')\n",
    "ax.set_title('Photon Budget (combined)')\n",
    "ax.set_ylim([1,10000000])\n",
    "# ax.set_xlim([990, 1100])\n",
    "ax.set_yscale('log')\n",
    "plt.tight_layout()\n",
    "plt.show()"
   ]
  },
  {
   "cell_type": "markdown",
   "id": "4b0a60d0",
   "metadata": {},
   "source": [
    "###### "
   ]
  },
  {
   "cell_type": "markdown",
   "id": "4f45de9c",
   "metadata": {},
   "source": [
    "### Receiver calculations:\n",
    "\n",
    "The Cassegrain telescope has an occluded primary, so the effective aperture is an annular disk. Thus, the solid angle of the occluded primary is given by\n",
    "\n",
    "$$\\Omega=\\int_{0}^{2\\pi}\\int_{\\theta_1}^{\\theta_2} \\sin\\theta d\\theta d\\phi=2\\pi\\int_{\\theta_1}^{\\theta_2} \\sin\\theta d\\theta$$\n",
    "\n",
    "where $\\theta_1=\\arctan(R_{s}/F)$ and $\\theta_2=\\arctan(R_{p}/F)$, where $R_{s}$ and $R_{p}$ are the radii of the secondary and primary mirrors, respectively, and $F$ is the focal length.\n",
    "\n",
    "The etendue $G$ can be calculated by multiplying the solid angle of the telescope with the area of the field stop $A_{FS}$:\n",
    "\n",
    "$$G=A_{FS}\\Omega=\\pi R_{FS}^2\\Omega$$\n",
    "\n",
    "where $R_{FS}$ is the radius of the field stop and the field stop is assumed circular.\n",
    "\n",
    "To couple into a fiber, the NA of the coupling optics needs to be smaller than the NA of the fiber. The simplest approach is to collimate and couple the focused light off the telescope directly to the fiber coupler. The issue with this is that the FOV is cut dramatically with this approach. For this setup, the FOV is calculated\n",
    "\n",
    "$$FOV = \\frac{F2}{F1}\\frac{D_{f}}{F_{t}}$$\n",
    "\n",
    "where $D_{f}$ is the diameter of the fiber, $F_{t}$ is the telescope focal length, and $F_2$ and $F_1$ are the focal lengths of the coupling and collimating lenses, respectively. Also, the practical issue with this is that, according to the Student Report [4], the circle of least confusion for the telescope is potentially larger than the diameter of the coupler.\n",
    "\n",
    "To maintain a larger FOV, if I'm using two thin lenses in series, then the effective focal length $EFL$ is given by\n",
    "\n",
    "$$EFL = \\left(\\frac{1}{F_1}+\\frac{1}{F_2}-\\frac{d}{F_1F_2}\\right)^{-1}$$\n",
    "\n",
    "where $d$ is the distance between the two lenses. For an input collimated beam of waist diameter $w$, the NA is found by\n",
    "\n",
    "$$NA = \\sin\\theta = \\sin\\left(\\tan^{-1}(\\frac{w/2}{EFL})\\right)$$\n",
    "\n",
    "Also, the theoretical diffraction-limited spot size of the telescope is given by\n",
    "\n",
    "$$r_{tele}=\\frac{1.22\\lambda}{NA}=\\frac{1.22\\lambda EFL}{D}$$\n",
    "\n",
    "To use a distant object as a point source, need to make sure that the image size is smaller than the Airy disk:\n",
    "\n",
    "$$h'=Mh=\\frac{s'}{s}h=\\frac{f}{s-f}h$$\n",
    "\n",
    "where $h'$ is the image height, $M$ is the magnification, $s'$ is the image distance, $s$ is the object distance, $h$ is the object height, and $f$ is the focal distance."
   ]
  },
  {
   "cell_type": "code",
   "execution_count": 9,
   "id": "fdd3779a",
   "metadata": {},
   "outputs": [
    {
     "name": "stdout",
     "output_type": "stream",
     "text": [
      "Occluded Omega: 0.00730 sr\n",
      "Unoccluded Omega: 0.00811 sr\n",
      "Etendue: 1.29E-08 m^2\n"
     ]
    }
   ],
   "source": [
    "# Solid angle and etendue calculations\n",
    "\n",
    "R_s = d/2 * 0.0254  # [m]\n",
    "R_p = D/2 * 0.0254  # [m]\n",
    "F_tele = 4  # [m] telescope focal length\n",
    "R_FS = 1.5e-3 / 2  # [m]  Aperture of fiber (field stop)\n",
    "\n",
    "theta1 = np.arctan(R_s/F_tele)  # [rad]\n",
    "theta2 = np.arctan(R_p/F_tele)  # [rad]\n",
    "\n",
    "Omega = -2*np.pi*(np.cos(theta2)-np.cos(theta1))\n",
    "print('Occluded Omega: {:.5f} sr'.format(Omega))\n",
    "\n",
    "# This is compared to the solid angle of the unoccluded primary (Omega = A/r^2):\n",
    "print('Unoccluded Omega: {:.5f} sr'.format(np.pi*(D*0.0254)**2/4/F_tele**2))\n",
    "\n",
    "G = np.pi*R_FS**2 * Omega  # [m^2] Etendue\n",
    "print('Etendue: {:.2E} m^2'.format(G))"
   ]
  },
  {
   "cell_type": "code",
   "execution_count": 10,
   "id": "504ba279",
   "metadata": {},
   "outputs": [
    {
     "name": "stdout",
     "output_type": "stream",
     "text": [
      "EFL: 60.77 [mm]\n",
      "NA: 0.2046\n"
     ]
    }
   ],
   "source": [
    "# Two-lens coupler NA calculations\n",
    "\n",
    "w = 1 * 0.0254  # [m]\n",
    "F1 = 3 * 0.0254  # [m]\n",
    "F2 = 10e-3  # [m]\n",
    "dist = 2.9 * 0.0254  # [m]\n",
    "\n",
    "EFL = (1/F1 + 1/F2 - dist/F1/F2)**(-1)\n",
    "NA = np.sin(np.arctan(w/2/EFL))\n",
    "\n",
    "print('EFL: {:.2f} [mm]'.format(EFL*1000))\n",
    "print('NA: {:.4f}'.format(NA))"
   ]
  },
  {
   "cell_type": "code",
   "execution_count": 11,
   "id": "3ea40b0a",
   "metadata": {},
   "outputs": [
    {
     "name": "stdout",
     "output_type": "stream",
     "text": [
      "FOV (without additional lens): 0.04921 mrad\n",
      "FOV (with additional focusing lens): 0.29904 mrad\n"
     ]
    }
   ],
   "source": [
    "d_f = 1.5e-3  # [m] fiber diameter\n",
    "M = -F2 / F1\n",
    "M_w = -EFL / F1\n",
    "FS_size = np.abs(M) * d_f\n",
    "FOV = FS_size / F_tele\n",
    "FOV_w = np.abs(M_w) * d_f / F_tele\n",
    "\n",
    "print('FOV (without additional lens): {:.5f} mrad'.format(FOV*1000))\n",
    "print('FOV (with additional focusing lens): {:.5f} mrad'.format(FOV_w*1000))"
   ]
  },
  {
   "cell_type": "code",
   "execution_count": 12,
   "id": "885ac256",
   "metadata": {},
   "outputs": [
    {
     "name": "stdout",
     "output_type": "stream",
     "text": [
      "Diffraction-limited spot size: 6.390e-06 m\n"
     ]
    }
   ],
   "source": [
    "r_tele = 1.22*lamb/(D*0.0254)*F_tele\n",
    "\n",
    "print('Diffraction-limited spot size: {:.3e} m'.format(r_tele))"
   ]
  },
  {
   "cell_type": "code",
   "execution_count": 27,
   "id": "48577c3c",
   "metadata": {},
   "outputs": [
    {
     "name": "stdout",
     "output_type": "stream",
     "text": [
      "Image height: 0.00010 m\n"
     ]
    }
   ],
   "source": [
    "# Calculate image size (using Boulder power plant stacks light)\n",
    "\n",
    "s = 3690  # [m] lamp distance\n",
    "h = 4*0.024  # [m] lamp diameter (itself) estimate\n",
    "\n",
    "sp = s*F_tele/(s-F_tele)\n",
    "M = sp/s\n",
    "hp = M * h  # [m] height of image\n",
    "print('Image height: {:.5f} m'.format(hp))"
   ]
  },
  {
   "cell_type": "code",
   "execution_count": 32,
   "id": "6321af8b",
   "metadata": {},
   "outputs": [
    {
     "name": "stdout",
     "output_type": "stream",
     "text": [
      "Shorter FL Orion diffraction-limited spot size: 2.597e-06 m\n",
      "Longer FL Orion diffraction-limited spot size: 3.198e-06 m\n"
     ]
    }
   ],
   "source": [
    "# For 8\" aperture, 27.5\" length Orion reflector\n",
    "\n",
    "F_newt = 800e-3  # [m]\n",
    "D = 200e-3  # [m]\n",
    "NA = D/F_newt\n",
    "\n",
    "r = 1.22*lamb/D*F_newt\n",
    "\n",
    "print('Shorter FL Orion diffraction-limited spot size: {:.3e} m'.format(r))\n",
    "\n",
    "# For 8\" aperture, 38\" length Orion reflector\n",
    "F_newt_long = 1000e-3  # [m]\n",
    "D = 203e-3  # [m]\n",
    "r = 1.22*lamb/D*F_newt_long\n",
    "\n",
    "print('Longer FL Orion diffraction-limited spot size: {:.3e} m'.format(r))\n"
   ]
  },
  {
   "cell_type": "code",
   "execution_count": 34,
   "id": "6fedcd9c",
   "metadata": {},
   "outputs": [
    {
     "name": "stdout",
     "output_type": "stream",
     "text": [
      "Image height: 0.00001 m\n"
     ]
    }
   ],
   "source": [
    "s = 3690  # [m] lamp distance\n",
    "h = 3*0.0254  # [m] lamp diameter (itself) estimate\n",
    "\n",
    "sp = s*F_newt/(s-F_newt)\n",
    "M = sp/s\n",
    "hp = M * h  # [m] height of image\n",
    "print('Image height: {:.5f} m'.format(hp))"
   ]
  },
  {
   "cell_type": "code",
   "execution_count": null,
   "id": "fcc0d804",
   "metadata": {},
   "outputs": [],
   "source": [
    "# Do some etendue calculations with the long-FL newtonian\n",
    "\n"
   ]
  }
 ],
 "metadata": {
  "kernelspec": {
   "display_name": "Python 3",
   "language": "python",
   "name": "python3"
  },
  "language_info": {
   "codemirror_mode": {
    "name": "ipython",
    "version": 3
   },
   "file_extension": ".py",
   "mimetype": "text/x-python",
   "name": "python",
   "nbconvert_exporter": "python",
   "pygments_lexer": "ipython3",
   "version": "3.9.12"
  }
 },
 "nbformat": 4,
 "nbformat_minor": 5
}
